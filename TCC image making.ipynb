{
 "cells": [
  {
   "cell_type": "code",
   "execution_count": 1,
   "metadata": {
    "collapsed": true
   },
   "outputs": [],
   "source": [
    "import gym\n",
    "from atari_wrappers import wrap_dqn, ScaledFloatFrame\n",
    "import atari_wrappers\n",
    "import numpy as np\n",
    "import matplotlib.pyplot as plt\n",
    "%matplotlib inline"
   ]
  },
  {
   "cell_type": "code",
   "execution_count": 2,
   "metadata": {},
   "outputs": [
    {
     "name": "stderr",
     "output_type": "stream",
     "text": [
      "[2017-11-15 15:46:56,093] Making new env: SeaquestNoFrameskip-v4\n"
     ]
    }
   ],
   "source": [
    "env_name = 'SeaquestNoFrameskip-v4'\n",
    "\n",
    "orig_env = gym.make(env_name)\n",
    "orig_env = atari_wrappers.SaveCurrents(orig_env)\n",
    "env = ScaledFloatFrame(wrap_dqn(orig_env))"
   ]
  },
  {
   "cell_type": "code",
   "execution_count": 6,
   "metadata": {},
   "outputs": [
    {
     "data": {
      "text/plain": [
       "3434"
      ]
     },
     "execution_count": 6,
     "metadata": {},
     "output_type": "execute_result"
    }
   ],
   "source": [
    "obs = orig_env.reset()\n",
    "done = False\n",
    "\n",
    "observations = [obs]\n",
    "while not done:\n",
    "    a = orig_env.action_space.sample()\n",
    "    obs, rew, done, info = orig_env.step(a)\n",
    "    observations.append(obs)\n",
    "len(observations)"
   ]
  },
  {
   "cell_type": "code",
   "execution_count": 12,
   "metadata": {},
   "outputs": [
    {
     "name": "stdout",
     "output_type": "stream",
     "text": [
      "4\n"
     ]
    },
    {
     "data": {
      "image/png": "[encoded data removed]",
      "text/plain": [
       "<matplotlib.figure.Figure at 0x7f7ff09195f8>"
      ]
     },
     "metadata": {},
     "output_type": "display_data"
    }
   ],
   "source": [
    "image_name = 'estados_subsequentes_correlacionadas'\n",
    "n = len(observations)\n",
    "i = np.random.choice(n-8)\n",
    "\n",
    "obs = observations[i:i+8:2]\n",
    "print(len(obs))\n",
    "fig = plt.figure(figsize=(15,5))\n",
    "for j, o in enumerate([obs[i][:,:,:] for i in range(4)]):\n",
    "    plt.subplot(1,4,j+1)\n",
    "    plt.imshow(o, cmap='gray')\n",
    "    plt.axis('off')\n",
    "plt.savefig('Images/TCC/'+image_name+'.png')"
   ]
  }
 ],
 "metadata": {
  "kernelspec": {
   "display_name": "Python 3",
   "language": "python",
   "name": "python3"
  },
  "language_info": {
   "codemirror_mode": {
    "name": "ipython",
    "version": 3
   },
   "file_extension": ".py",
   "mimetype": "text/x-python",
   "name": "python",
   "nbconvert_exporter": "python",
   "pygments_lexer": "ipython3",
   "version": "3.6.2"
  }
 },
 "nbformat": 4,
 "nbformat_minor": 2
}
